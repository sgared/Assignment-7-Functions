{
 "cells": [
  {
   "cell_type": "markdown",
   "source": [
    "INFO-B 210: Information Infrastructure I\n",
    "\n",
    "Assignment 7: User Defined Functions"
   ],
   "metadata": {
    "collapsed": false
   },
   "id": "8b135a8dd51f9edc"
  },
  {
   "cell_type": "markdown",
   "source": [
    "Purpose:\n",
    "\n",
    "The purpose of this assignment is to utilize python programming in practical setting to solve real world problems.\n",
    "\n",
    "Skills:\n",
    "In order to complete this assignment you will need to\n",
    "\n",
    "use critical thinking to write code to answer the questions\n",
    "\n",
    "practice Python fundamentals and best practices"
   ],
   "metadata": {
    "collapsed": false
   },
   "id": "ab689612bcb11bbd"
  },
  {
   "cell_type": "markdown",
   "source": [
    "Knowledge:\n",
    "\n",
    "This assignment will help you gain the following:\n",
    "\n",
    "how to create user-defined functions\n",
    "\n",
    "practice utilizing mandatory and optional arguments\n",
    "\n",
    "designing and troubleshooting a recursive function\n"
   ],
   "metadata": {
    "collapsed": false
   },
   "id": "329bad0b2cb02426"
  },
  {
   "cell_type": "markdown",
   "source": [
    "Write functions that address the following prompts. Your function should have proper documentation and error handling. In the main part of your program, you should call your function using the test cases listed below.\n"
   ],
   "metadata": {
    "collapsed": false
   },
   "id": "d0dcab60bb890b5e"
  },
  {
   "cell_type": "code",
   "source": [
    "'''1.Probability plays a essential role in all games of chance from Poker to Roulette. A less common form of games of chance are games that rely on dice roll. Craps is a classic casino game in which players bet on the outcome of rolling 2 six dice (2d6). Write a function that takes a dice configuration, and a numeric value as input. The function should then calculate the probability of rolling a series of numbers on the dice that matches or exceeds the input value (ie. ‘1d6’, 3, would return 4/6). You can use a stats based or a numeric approach, whichever you are more comfortable with. (40 points)'''"
   ],
   "metadata": {
    "collapsed": false,
    "ExecuteTime": {
     "end_time": "2024-04-12T16:17:43.900211Z",
     "start_time": "2024-04-12T16:17:43.890875Z"
    }
   },
   "id": "f2035d970bf4d764",
   "outputs": [
    {
     "data": {
      "text/plain": [
       "'1.Probability plays a essential role in all games of chance from Poker to Roulette. A less common form of games of chance are games that rely on dice roll. Craps is a classic casino game in which players bet on the outcome of rolling 2 six dice (2d6). Write a function that takes a dice configuration, and a numeric value as input. The function should then calculate the probability of rolling a series of numbers on the dice that matches or exceeds the input value (ie. ‘1d6’, 3, would return 4/6). You can use a stats based or a numeric approach, whichever you are more comfortable with. (40 points)'"
      ]
     },
     "execution_count": 80,
     "metadata": {},
     "output_type": "execute_result"
    }
   ],
   "execution_count": 80
  },
  {
   "cell_type": "code",
   "source": [
    "# defining a function that takes two arguments.\n",
    "def dice_chance(dice, target_num):\n",
    "    num_dice = \"\"\n",
    "    num_side = 0\n",
    "    for char in dice:\n",
    "        if char.isdigit():\n",
    "            num_dice += char\n",
    "        elif char.isalpha():\n",
    "            num_side = int(dice[dice.index(char)+1:])\n",
    "            break\n",
    "    #convert num_dice from string to integer before using it in the range\n",
    "    num_dice = int(num_dice)\n",
    "    favorable_outcomes = 0\n",
    "    total_outcomes = num_side ** int(num_dice)\n",
    "\n",
    "    # Enumerate all possible combinations of dice rolls\n",
    "    for roll in range(num_dice, num_side * num_dice + 1):\n",
    "        favorable_outcomes += 1 if roll >= target_num else 0\n",
    "    \n",
    "    probability = favorable_outcomes / total_outcomes\n",
    "    return probability\n",
    "    "
   ],
   "metadata": {
    "collapsed": false,
    "ExecuteTime": {
     "end_time": "2024-04-12T16:17:43.915637Z",
     "start_time": "2024-04-12T16:17:43.901298Z"
    }
   },
   "id": "85ef111fcc8a2971",
   "outputs": [],
   "execution_count": 81
  },
  {
   "cell_type": "code",
   "source": [
    "a1 = '2d6'\n",
    "a2 = 7\n",
    "result = dice_chance(a1,a2)\n",
    "print(\"Probability:\", result)"
   ],
   "metadata": {
    "collapsed": false,
    "ExecuteTime": {
     "end_time": "2024-04-12T16:17:43.931278Z",
     "start_time": "2024-04-12T16:17:43.917741Z"
    }
   },
   "id": "1ffc144ac04f475f",
   "outputs": [
    {
     "name": "stdout",
     "output_type": "stream",
     "text": [
      "Probability: 0.16666666666666666\n"
     ]
    }
   ],
   "execution_count": 82
  },
  {
   "cell_type": "code",
   "source": [
    "#b. ‘2d6’, 9\n",
    "# Define the dice configuration and target number\n",
    "b1 = '2d6'\n",
    "b2 = 9\n",
    "\n",
    "# Call the dice_chance function with the input values\n",
    "result = dice_chance(b1,b2)\n",
    "\n",
    "# Print the result\n",
    "print(\"Probability:\", result)"
   ],
   "metadata": {
    "collapsed": false,
    "ExecuteTime": {
     "end_time": "2024-04-12T16:17:43.947112Z",
     "start_time": "2024-04-12T16:17:43.931278Z"
    }
   },
   "id": "7f57f4adcc9fd0e3",
   "outputs": [
    {
     "name": "stdout",
     "output_type": "stream",
     "text": [
      "Probability: 0.1111111111111111\n"
     ]
    }
   ],
   "execution_count": 83
  },
  {
   "cell_type": "code",
   "source": [
    "#c. ‘3d8’, 22\n",
    "# Define the dice configuration and target number\n",
    "c1 = '3d8'\n",
    "c2 = 22\n",
    "\n",
    "# Call the dice_chance function with the input values\n",
    "result = dice_chance(c1,c2)\n",
    "\n",
    "# Print the result\n",
    "print(\"Probability:\", result)"
   ],
   "metadata": {
    "collapsed": false,
    "ExecuteTime": {
     "end_time": "2024-04-12T16:17:43.963029Z",
     "start_time": "2024-04-12T16:17:43.947112Z"
    }
   },
   "id": "f29e4c0a55c7ec91",
   "outputs": [
    {
     "name": "stdout",
     "output_type": "stream",
     "text": [
      "Probability: 0.005859375\n"
     ]
    }
   ],
   "execution_count": 84
  },
  {
   "cell_type": "code",
   "source": [
    "#d. ‘1d20’, 17\n",
    "# Define the dice configuration and target number\n",
    "d1 = '1d20'\n",
    "d2 = 17\n",
    "\n",
    "# Call the dice_chance function with the input values\n",
    "result = dice_chance(d1,d2)\n",
    "\n",
    "# Print the result\n",
    "print(\"Probability:\", result)"
   ],
   "metadata": {
    "collapsed": false,
    "ExecuteTime": {
     "end_time": "2024-04-12T16:17:43.978909Z",
     "start_time": "2024-04-12T16:17:43.965009Z"
    }
   },
   "id": "10489114f56edb9f",
   "outputs": [
    {
     "name": "stdout",
     "output_type": "stream",
     "text": [
      "Probability: 0.2\n"
     ]
    }
   ],
   "execution_count": 85
  },
  {
   "cell_type": "code",
   "source": [
    "#e. 6, 5\n",
    "# Define the dice configuration and target number\n",
    "e1 = '6'\n",
    "e2 = 5\n",
    "\n",
    "# Call the dice_chance function with the input values\n",
    "result = dice_chance(e1,e2)\n",
    "\n",
    "# Print the result\n",
    "print(\"Probability:\", result)"
   ],
   "metadata": {
    "collapsed": false,
    "ExecuteTime": {
     "end_time": "2024-04-12T16:17:44.011016Z",
     "start_time": "2024-04-12T16:17:43.979977Z"
    }
   },
   "id": "aa9399f9f840ec1b",
   "outputs": [
    {
     "ename": "ZeroDivisionError",
     "evalue": "division by zero",
     "output_type": "error",
     "traceback": [
      "\u001B[1;31m---------------------------------------------------------------------------\u001B[0m",
      "\u001B[1;31mZeroDivisionError\u001B[0m                         Traceback (most recent call last)",
      "Cell \u001B[1;32mIn[86], line 7\u001B[0m\n\u001B[0;32m      4\u001B[0m e2 \u001B[38;5;241m=\u001B[39m \u001B[38;5;241m5\u001B[39m\n\u001B[0;32m      6\u001B[0m \u001B[38;5;66;03m# Call the dice_chance function with the input values\u001B[39;00m\n\u001B[1;32m----> 7\u001B[0m result \u001B[38;5;241m=\u001B[39m \u001B[43mdice_chance\u001B[49m\u001B[43m(\u001B[49m\u001B[43me1\u001B[49m\u001B[43m,\u001B[49m\u001B[43me2\u001B[49m\u001B[43m)\u001B[49m\n\u001B[0;32m      9\u001B[0m \u001B[38;5;66;03m# Print the result\u001B[39;00m\n\u001B[0;32m     10\u001B[0m \u001B[38;5;28mprint\u001B[39m(\u001B[38;5;124m\"\u001B[39m\u001B[38;5;124mProbability:\u001B[39m\u001B[38;5;124m\"\u001B[39m, result)\n",
      "Cell \u001B[1;32mIn[81], line 20\u001B[0m, in \u001B[0;36mdice_chance\u001B[1;34m(dice, target_num)\u001B[0m\n\u001B[0;32m     17\u001B[0m \u001B[38;5;28;01mfor\u001B[39;00m roll \u001B[38;5;129;01min\u001B[39;00m \u001B[38;5;28mrange\u001B[39m(num_dice, num_side \u001B[38;5;241m*\u001B[39m num_dice \u001B[38;5;241m+\u001B[39m \u001B[38;5;241m1\u001B[39m):\n\u001B[0;32m     18\u001B[0m     favorable_outcomes \u001B[38;5;241m+\u001B[39m\u001B[38;5;241m=\u001B[39m \u001B[38;5;241m1\u001B[39m \u001B[38;5;28;01mif\u001B[39;00m roll \u001B[38;5;241m>\u001B[39m\u001B[38;5;241m=\u001B[39m target_num \u001B[38;5;28;01melse\u001B[39;00m \u001B[38;5;241m0\u001B[39m\n\u001B[1;32m---> 20\u001B[0m probability \u001B[38;5;241m=\u001B[39m \u001B[43mfavorable_outcomes\u001B[49m\u001B[43m \u001B[49m\u001B[38;5;241;43m/\u001B[39;49m\u001B[43m \u001B[49m\u001B[43mtotal_outcomes\u001B[49m\n\u001B[0;32m     21\u001B[0m \u001B[38;5;28;01mreturn\u001B[39;00m probability\n",
      "\u001B[1;31mZeroDivisionError\u001B[0m: division by zero"
     ]
    }
   ],
   "execution_count": 86
  },
  {
   "cell_type": "code",
   "source": [
    "'''2. Combinatorics is a branch of mathematics that describes how a set of elements can be arranged or organized. Two common metrics used in combinatorics are combinations, the number of ways items in a set can be arranged, and permutations the number of sequential ways a set can be arranged. Write a function that takes a string as input, and will generate a list of all permutations of the characters used in that string. For example, the input ‘AB’ would return ‘AB’ and ‘BA’. Hint: consider breaking the word into a prefix and a suffix. (40 points)'''"
   ],
   "metadata": {
    "collapsed": false
   },
   "id": "13fae99936cec726",
   "outputs": [],
   "execution_count": null
  },
  {
   "cell_type": "code",
   "source": [
    "def permutations(a):\n",
    "\n",
    "  if len(a) <= 1: #checks if the passed arg is only 1 length\n",
    "    return [a]\n",
    "  else:\n",
    "    permutations_list = [] #collection of permutation\n",
    "    for i in range(len(a)):\n",
    "      char = a[i] \n",
    "      remaining_chars = a[:i] + a[i+1:]\n",
    "      #I called the function many times, until all the letters are \n",
    "      for permutation in permutations(remaining_chars):\n",
    "        permutations_list.append(char + permutation)\n",
    "  return permutations_list\n",
    "#a. ‘ABC’\n",
    "aa = \"ABC\"\n",
    "result = permutations(aa)\n",
    "print(result)\n"
   ],
   "metadata": {
    "collapsed": false
   },
   "id": "a3bec948beb23aec",
   "outputs": [],
   "execution_count": null
  },
  {
   "cell_type": "code",
   "source": "\n",
   "metadata": {
    "collapsed": false
   },
   "id": "10069098ed65dd63",
   "outputs": [],
   "execution_count": null
  },
  {
   "metadata": {},
   "cell_type": "code",
   "source": "",
   "id": "597d37cc634b2d07",
   "outputs": [],
   "execution_count": null
  }
 ],
 "metadata": {
  "kernelspec": {
   "display_name": "Python 3",
   "language": "python",
   "name": "python3"
  },
  "language_info": {
   "codemirror_mode": {
    "name": "ipython",
    "version": 2
   },
   "file_extension": ".py",
   "mimetype": "text/x-python",
   "name": "python",
   "nbconvert_exporter": "python",
   "pygments_lexer": "ipython2",
   "version": "2.7.6"
  }
 },
 "nbformat": 4,
 "nbformat_minor": 5
}
